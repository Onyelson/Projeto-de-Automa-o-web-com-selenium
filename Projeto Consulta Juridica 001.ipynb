{
 "cells": [
  {
   "cell_type": "code",
   "execution_count": 44,
   "id": "b0ac5f93",
   "metadata": {},
   "outputs": [],
   "source": [
    "# criar o navegador\n",
    "from selenium import webdriver\n",
    "from selenium.webdriver.chrome.service import Service\n",
    "from webdriver_manager.chrome import ChromeDriverManager\n",
    "from selenium.webdriver.common.by import By\n",
    "\n",
    "servico = Service(ChromeDriverManager().install())\n",
    "navegador = webdriver.Chrome(service=servico)"
   ]
  },
  {
   "cell_type": "code",
   "execution_count": 45,
   "id": "59cea0d0",
   "metadata": {},
   "outputs": [],
   "source": [
    "#Entra na pagina da Pesquisa Juridica\n",
    "import os\n",
    "\n",
    "caminho = os.getcwd()\n",
    "arquivo = caminho + r\"\\index.html\" \n",
    "navegador.get(arquivo)"
   ]
  },
  {
   "cell_type": "code",
   "execution_count": 46,
   "id": "3bae9c0b",
   "metadata": {
    "scrolled": true
   },
   "outputs": [],
   "source": [
    "#escolher um estado\n",
    "#Distrito Federal\n",
    "import time\n",
    "navegador.find_element(By.XPATH, '/html/body/div/div/button').click()\n",
    "time.sleep(0.5)\n",
    "navegador.find_element(By.XPATH, '/html/body/div/div/div/a[1]').click()"
   ]
  },
  {
   "cell_type": "code",
   "execution_count": 47,
   "id": "6fdd243b",
   "metadata": {},
   "outputs": [],
   "source": [
    "#mudar de aba\n",
    "#precisa criar variaveis para cada aba\n",
    "aba_original = navegador.window_handles[0]\n",
    "nova_aba = navegador.window_handles[1]\n",
    "#mudando pra nova aba agora ele ja foi pra nova aba, agora é tudo na nova aba\n",
    "navegador.switch_to.window(nova_aba)"
   ]
  },
  {
   "cell_type": "code",
   "execution_count": 48,
   "id": "c526065c",
   "metadata": {},
   "outputs": [],
   "source": [
    "#preencher os dados do formulario de pesquisa\n",
    "from selenium.webdriver.common.keys import Keys\n",
    "navegador.find_element(By.XPATH, '//*[@id=\"nome\"]').send_keys('Zezinho da Silva')\n",
    "navegador.find_element(By.XPATH, '//*[@id=\"advogado\"]').send_keys('Joao sei la das quantas')\n",
    "navegador.find_element(By.XPATH, '//*[@id=\"numero\"]').send_keys('5490')   \n"
   ]
  },
  {
   "cell_type": "code",
   "execution_count": 49,
   "id": "3bdec489",
   "metadata": {},
   "outputs": [],
   "source": [
    "#clickar em pesquisar\n",
    "navegador.find_element(By.XPATH, '//*[@id=\"formulario\"]/div/button').click()"
   ]
  },
  {
   "cell_type": "code",
   "execution_count": 50,
   "id": "9f0244c1",
   "metadata": {},
   "outputs": [
    {
     "name": "stdout",
     "output_type": "stream",
     "text": [
      "Processo não encontrado\n"
     ]
    }
   ],
   "source": [
    "#confirmar a pesquisa\n",
    "alerta = navegador.switch_to.alert\n",
    "alerta.accept()\n",
    "\n",
    "#esperar o resultado da pesquisa e agir de acordo com o resultado\n",
    "# EC WebDriverWait\n",
    "from selenium.webdriver.support.ui import WebDriverWait\n",
    "from selenium.webdriver.support import expected_conditions as EC\n",
    "\n",
    "\n",
    "elemento = WebDriverWait(navegador, 20).until(EC.alert_is_present())\n",
    "time.sleep(1) #garantia\n",
    "texto = alerta.text\n",
    "\n",
    "if 'com sucesso' in texto:\n",
    "    alerta.accept()\n",
    "    print('Processo encontrado')\n",
    "else:\n",
    "    alerta.accept()\n",
    "    print('Processo não encontrado')"
   ]
  },
  {
   "cell_type": "code",
   "execution_count": null,
   "id": "2c493067",
   "metadata": {},
   "outputs": [],
   "source": []
  }
 ],
 "metadata": {
  "kernelspec": {
   "display_name": "Python 3 (ipykernel)",
   "language": "python",
   "name": "python3"
  },
  "language_info": {
   "codemirror_mode": {
    "name": "ipython",
    "version": 3
   },
   "file_extension": ".py",
   "mimetype": "text/x-python",
   "name": "python",
   "nbconvert_exporter": "python",
   "pygments_lexer": "ipython3",
   "version": "3.9.12"
  }
 },
 "nbformat": 4,
 "nbformat_minor": 5
}
